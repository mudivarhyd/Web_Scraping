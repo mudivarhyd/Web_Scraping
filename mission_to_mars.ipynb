{
 "cells": [
  {
   "cell_type": "code",
   "execution_count": 24,
   "metadata": {},
   "outputs": [],
   "source": [
    "# Import Beautiful Soup and splinter\n",
    "from bs4 import BeautifulSoup\n",
    "import requests\n",
    "from splinter import Browser\n",
    "import pandas as pd"
   ]
  },
  {
   "cell_type": "code",
   "execution_count": 25,
   "metadata": {},
   "outputs": [],
   "source": [
    "# Choose executable path to driver for Mac\n",
    "executable_path = {'executable_path': '/usr/local/bin/chromedriver'}\n",
    "browser = Browser('chrome', **executable_path, headless=False)"
   ]
  },
  {
   "cell_type": "markdown",
   "metadata": {},
   "source": [
    "# NASA Mars News"
   ]
  },
  {
   "cell_type": "code",
   "execution_count": 3,
   "metadata": {},
   "outputs": [],
   "source": [
    "# Vist NASA Site\n",
    "nasa_url = \"https://mars.nasa.gov/news/\"\n",
    "browser.visit(nasa_url)"
   ]
  },
  {
   "cell_type": "code",
   "execution_count": 4,
   "metadata": {},
   "outputs": [],
   "source": [
    "# Create BeautifulSoup object; parse with 'html.parser'\n",
    "html = browser.html\n",
    "soup = BeautifulSoup(html, 'html.parser')"
   ]
  },
  {
   "cell_type": "code",
   "execution_count": 5,
   "metadata": {},
   "outputs": [],
   "source": [
    "#print(soup.prettify())"
   ]
  },
  {
   "cell_type": "code",
   "execution_count": 6,
   "metadata": {},
   "outputs": [
    {
     "name": "stdout",
     "output_type": "stream",
     "text": [
      "Article Date:  March  5, 2019\n",
      "Article Title:  Mars InSight Lander's 'Mole' Pauses Digging\n",
      "Article Body:  After the mission's heat probe began hammering last week, it appears to have hit a rock. The team is analyzing data before they hammer again.\n"
     ]
    }
   ],
   "source": [
    "# Recent mars news article, title\n",
    "\n",
    "news_title = soup.find(\"div\", class_=\"content_title\").text\n",
    "news_p = soup.find(\"div\", class_=\"article_teaser_body\").text\n",
    "news_date = soup.find(\"div\", class_=\"list_date\").text\n",
    "\n",
    "print(f\"Article Date:  {news_date}\")\n",
    "print(f\"Article Title:  {news_title}\")\n",
    "print(f\"Article Body:  {news_p}\")"
   ]
  },
  {
   "cell_type": "markdown",
   "metadata": {},
   "source": [
    "# JPL Mars Space Images - Featured Image"
   ]
  },
  {
   "cell_type": "code",
   "execution_count": 7,
   "metadata": {},
   "outputs": [],
   "source": [
    "# Vist Jet Propulsion Laboratory web site to get mars images\n",
    "\n",
    "image_url_featured = \"https://www.jpl.nasa.gov/spaceimages/?search=&category=Mars\"\n",
    "browser.visit(image_url_featured)"
   ]
  },
  {
   "cell_type": "code",
   "execution_count": 8,
   "metadata": {},
   "outputs": [
    {
     "name": "stdout",
     "output_type": "stream",
     "text": [
      "/spaceimages/images/wallpaper/PIA20464-1920x1200.jpg\n",
      "https://www.jpl.nasa.gov\n",
      "https://www.jpl.nasa.gov/spaceimages/images/wallpaper/PIA20464-1920x1200.jpg\n"
     ]
    }
   ],
   "source": [
    "# Create BeautifulSoup object; parse with 'html.parser'\n",
    "html_image = browser.html\n",
    "soup = BeautifulSoup(html_image, 'html.parser')\n",
    "\n",
    "# Get background image url\n",
    "image_url = soup.find(\"article\")[\"style\"].replace(\"background-image: url('\",\"\").replace(\"');\", \"\")\n",
    "print(image_url)\n",
    "\n",
    "# Get Main URL\n",
    "JPL_url = \"https://www.jpl.nasa.gov\"\n",
    "print(JPL_url)\n",
    "\n",
    "# Full path url with image\n",
    "full_image_url = JPL_url + image_url\n",
    "print(full_image_url)"
   ]
  },
  {
   "cell_type": "markdown",
   "metadata": {},
   "source": [
    "# Mars Weather with Twitter"
   ]
  },
  {
   "cell_type": "code",
   "execution_count": 9,
   "metadata": {},
   "outputs": [],
   "source": [
    "# Mars weather twitter through splinter\n",
    "weather_url = \"https://twitter.com/marswxreport?lang=en\"\n",
    "browser.visit(weather_url)"
   ]
  },
  {
   "cell_type": "code",
   "execution_count": 10,
   "metadata": {},
   "outputs": [
    {
     "name": "stdout",
     "output_type": "stream",
     "text": [
      "\n",
      "A few days ago @BadAstronomer made a post about the median Earth.  I thought:  that's cool; someone should do that for Mars.  But I realized, damn, the person that would do that is me.  So here's the median #Mars from 4 different years.https://twitter.com/BadAstronomer/status/1102960024110882816 …\n",
      "\n"
     ]
    }
   ],
   "source": [
    "# Create BeautifulSoup object; parse with 'html.parser'\n",
    "twitter_html = browser.html\n",
    "soup = BeautifulSoup(twitter_html, 'html.parser')\n",
    "\n",
    "# Elements that contain tweets\n",
    "mars_weather = soup.find(\"div\", class_=\"js-tweet-text-container\").text.replace(\"pic.twitter.com/Q9QivIo4ls\",\"\")\n",
    "print(mars_weather)"
   ]
  },
  {
   "cell_type": "markdown",
   "metadata": {},
   "source": [
    "# Mars Facts"
   ]
  },
  {
   "cell_type": "code",
   "execution_count": 11,
   "metadata": {},
   "outputs": [],
   "source": [
    "# Mars facts url\n",
    "mars_facts_url = 'https://space-facts.com/mars/'\n",
    "browser.visit(mars_facts_url)\n"
   ]
  },
  {
   "cell_type": "code",
   "execution_count": 12,
   "metadata": {},
   "outputs": [
    {
     "data": {
      "text/html": [
       "<div>\n",
       "<style scoped>\n",
       "    .dataframe tbody tr th:only-of-type {\n",
       "        vertical-align: middle;\n",
       "    }\n",
       "\n",
       "    .dataframe tbody tr th {\n",
       "        vertical-align: top;\n",
       "    }\n",
       "\n",
       "    .dataframe thead th {\n",
       "        text-align: right;\n",
       "    }\n",
       "</style>\n",
       "<table border=\"1\" class=\"dataframe\">\n",
       "  <thead>\n",
       "    <tr style=\"text-align: right;\">\n",
       "      <th></th>\n",
       "      <th>Values</th>\n",
       "    </tr>\n",
       "    <tr>\n",
       "      <th>Mars_Description</th>\n",
       "      <th></th>\n",
       "    </tr>\n",
       "  </thead>\n",
       "  <tbody>\n",
       "    <tr>\n",
       "      <th>Equatorial Diameter:</th>\n",
       "      <td>6,792 km</td>\n",
       "    </tr>\n",
       "    <tr>\n",
       "      <th>Polar Diameter:</th>\n",
       "      <td>6,752 km</td>\n",
       "    </tr>\n",
       "    <tr>\n",
       "      <th>Mass:</th>\n",
       "      <td>6.42 x 10^23 kg (10.7% Earth)</td>\n",
       "    </tr>\n",
       "    <tr>\n",
       "      <th>Moons:</th>\n",
       "      <td>2 (Phobos &amp; Deimos)</td>\n",
       "    </tr>\n",
       "    <tr>\n",
       "      <th>Orbit Distance:</th>\n",
       "      <td>227,943,824 km (1.52 AU)</td>\n",
       "    </tr>\n",
       "    <tr>\n",
       "      <th>Orbit Period:</th>\n",
       "      <td>687 days (1.9 years)</td>\n",
       "    </tr>\n",
       "    <tr>\n",
       "      <th>Surface Temperature:</th>\n",
       "      <td>-153 to 20 °C</td>\n",
       "    </tr>\n",
       "    <tr>\n",
       "      <th>First Record:</th>\n",
       "      <td>2nd millennium BC</td>\n",
       "    </tr>\n",
       "    <tr>\n",
       "      <th>Recorded By:</th>\n",
       "      <td>Egyptian astronomers</td>\n",
       "    </tr>\n",
       "  </tbody>\n",
       "</table>\n",
       "</div>"
      ],
      "text/plain": [
       "                                             Values\n",
       "Mars_Description                                   \n",
       "Equatorial Diameter:                       6,792 km\n",
       "Polar Diameter:                            6,752 km\n",
       "Mass:                 6.42 x 10^23 kg (10.7% Earth)\n",
       "Moons:                          2 (Phobos & Deimos)\n",
       "Orbit Distance:            227,943,824 km (1.52 AU)\n",
       "Orbit Period:                  687 days (1.9 years)\n",
       "Surface Temperature:                  -153 to 20 °C\n",
       "First Record:                     2nd millennium BC\n",
       "Recorded By:                   Egyptian astronomers"
      ]
     },
     "execution_count": 12,
     "metadata": {},
     "output_type": "execute_result"
    }
   ],
   "source": [
    "# Use pandas to parse the url\n",
    "mars_facts_pd = pd.read_html(mars_facts_url)\n",
    "#print(mars_facts_pd)\n",
    "\n",
    "# Mars data frame\n",
    "mars_facts_df = mars_facts_pd[0]\n",
    "\n",
    "# Assign columns to data frame\n",
    "mars_facts_df.columns = [\"Mars_Description\", \"Values\"]\n",
    "mars_facts_df.set_index(\"Mars_Description\", inplace=True)\n",
    "\n",
    "\n",
    "# Convert to html table\n",
    "mars_fact_html = mars_facts_df.to_html()\n",
    "mars_facts_df"
   ]
  },
  {
   "cell_type": "markdown",
   "metadata": {},
   "source": [
    "# Mars Hemispheres"
   ]
  },
  {
   "cell_type": "code",
   "execution_count": 86,
   "metadata": {},
   "outputs": [],
   "source": [
    "# Mars Hemispheres url\n",
    "mars_hems_url1 = \"https://astrogeology.usgs.gov/search/results?q=hemisphere+enhanced&k1=target&v1=Mars\"\n",
    "browser.visit(mars_hems_url1)"
   ]
  },
  {
   "cell_type": "code",
   "execution_count": 87,
   "metadata": {},
   "outputs": [
    {
     "data": {
      "text/plain": [
       "[{'Title': 'Cerberus Hemisphere Enhanced',\n",
       "  'Image_URL': 'https://astrogeology.usgs.gov/cache/images/cfa62af2557222a02478f1fcd781d445_cerberus_enhanced.tif_full.jpg'},\n",
       " {'Title': 'Schiaparelli Hemisphere Enhanced',\n",
       "  'Image_URL': 'https://astrogeology.usgs.gov/cache/images/3cdd1cbf5e0813bba925c9030d13b62e_schiaparelli_enhanced.tif_full.jpg'},\n",
       " {'Title': 'Syrtis Major Hemisphere Enhanced',\n",
       "  'Image_URL': 'https://astrogeology.usgs.gov/cache/images/ae209b4e408bb6c3e67b6af38168cf28_syrtis_major_enhanced.tif_full.jpg'},\n",
       " {'Title': 'Valles Marineris Hemisphere Enhanced',\n",
       "  'Image_URL': 'https://astrogeology.usgs.gov/cache/images/7cf2da4bf549ed01c17f206327be4db7_valles_marineris_enhanced.tif_full.jpg'}]"
      ]
     },
     "execution_count": 87,
     "metadata": {},
     "output_type": "execute_result"
    }
   ],
   "source": [
    "# Create BeautifulSoup object; parse with 'html.parser'\n",
    "mars_hems_html1 = browser.html\n",
    "soup = BeautifulSoup(mars_hems_html1, \"html.parser\")\n",
    "\n",
    "# Main url to add to the front\n",
    "main_url = \"https://astrogeology.usgs.gov\"\n",
    "\n",
    "# Pick all items to pic 4 pictures form list\n",
    "item_list = soup.find_all(\"div\", class_=\"item\")\n",
    "\n",
    "# List of dictonaries for empty urls\n",
    "mars_hems_list = []\n",
    "\n",
    "# Loop through to collect 4 urls\n",
    "for i in item_list:\n",
    "    mars_title = i.find(class_=\"description\").find(\"h3\").text\n",
    "    mars_image = i.find(class_=\"description\").find(\"a\")[\"href\"]\n",
    "    mars_hems_url2 = main_url + mars_image\n",
    "    # Vist the mars_hems_url2 link for larger image\n",
    "    browser.visit(mars_hems_url2)\n",
    "    mars_hems_html2 = browser.html\n",
    "    soup = BeautifulSoup(mars_hems_html2, \"html.parser\")\n",
    "    mars_image2 = soup.find(\"img\", class_ = \"wide-image\")[\"src\"]\n",
    "    large_img_url = main_url + mars_image2\n",
    "    mars_hems_list.append({\"Title\": mars_title, \"Image_URL\": large_img_url})\n",
    "    \n",
    "# Print built list of dictionaries \n",
    "mars_hems_list"
   ]
  },
  {
   "cell_type": "code",
   "execution_count": null,
   "metadata": {},
   "outputs": [],
   "source": []
  },
  {
   "cell_type": "code",
   "execution_count": null,
   "metadata": {},
   "outputs": [],
   "source": []
  }
 ],
 "metadata": {
  "kernelspec": {
   "display_name": "Python (PythonData)",
   "language": "python",
   "name": "pythondata"
  },
  "language_info": {
   "codemirror_mode": {
    "name": "ipython",
    "version": 3
   },
   "file_extension": ".py",
   "mimetype": "text/x-python",
   "name": "python",
   "nbconvert_exporter": "python",
   "pygments_lexer": "ipython3",
   "version": "3.7.1"
  }
 },
 "nbformat": 4,
 "nbformat_minor": 2
}
